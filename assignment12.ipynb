{
 "cells": [
  {
   "cell_type": "markdown",
   "id": "6ccee0a4-a84e-4d9c-852f-6181304636a8",
   "metadata": {},
   "source": [
    "Load the `ISLR2` and `tidyverse` packages."
   ]
  },
  {
   "cell_type": "code",
   "execution_count": 1,
   "id": "bd2f144e-0f63-4fd0-8bbf-ea6d12441682",
   "metadata": {
    "tags": []
   },
   "outputs": [
    {
     "name": "stderr",
     "output_type": "stream",
     "text": [
      "── \u001b[1mAttaching packages\u001b[22m ────────────────────────────────────── tidymodels 1.1.1 ──\n",
      "\n",
      "\u001b[32m✔\u001b[39m \u001b[34mbroom       \u001b[39m 1.0.5     \u001b[32m✔\u001b[39m \u001b[34mrecipes     \u001b[39m 1.0.9\n",
      "\u001b[32m✔\u001b[39m \u001b[34mdials       \u001b[39m 1.2.0     \u001b[32m✔\u001b[39m \u001b[34mrsample     \u001b[39m 1.2.0\n",
      "\u001b[32m✔\u001b[39m \u001b[34mdplyr       \u001b[39m 1.1.4     \u001b[32m✔\u001b[39m \u001b[34mtibble      \u001b[39m 3.2.1\n",
      "\u001b[32m✔\u001b[39m \u001b[34mggplot2     \u001b[39m 3.4.4     \u001b[32m✔\u001b[39m \u001b[34mtidyr       \u001b[39m 1.3.0\n",
      "\u001b[32m✔\u001b[39m \u001b[34minfer       \u001b[39m 1.0.5     \u001b[32m✔\u001b[39m \u001b[34mtune        \u001b[39m 1.1.2\n",
      "\u001b[32m✔\u001b[39m \u001b[34mmodeldata   \u001b[39m 1.2.0     \u001b[32m✔\u001b[39m \u001b[34mworkflows   \u001b[39m 1.1.3\n",
      "\u001b[32m✔\u001b[39m \u001b[34mparsnip     \u001b[39m 1.1.1     \u001b[32m✔\u001b[39m \u001b[34mworkflowsets\u001b[39m 1.0.1\n",
      "\u001b[32m✔\u001b[39m \u001b[34mpurrr       \u001b[39m 1.0.2     \u001b[32m✔\u001b[39m \u001b[34myardstick   \u001b[39m 1.2.0\n",
      "\n",
      "── \u001b[1mConflicts\u001b[22m ───────────────────────────────────────── tidymodels_conflicts() ──\n",
      "\u001b[31m✖\u001b[39m \u001b[34mpurrr\u001b[39m::\u001b[32mdiscard()\u001b[39m masks \u001b[34mscales\u001b[39m::discard()\n",
      "\u001b[31m✖\u001b[39m \u001b[34mdplyr\u001b[39m::\u001b[32mfilter()\u001b[39m  masks \u001b[34mstats\u001b[39m::filter()\n",
      "\u001b[31m✖\u001b[39m \u001b[34mdplyr\u001b[39m::\u001b[32mlag()\u001b[39m     masks \u001b[34mstats\u001b[39m::lag()\n",
      "\u001b[31m✖\u001b[39m \u001b[34mrecipes\u001b[39m::\u001b[32mstep()\u001b[39m  masks \u001b[34mstats\u001b[39m::step()\n",
      "\u001b[34m•\u001b[39m Use suppressPackageStartupMessages() to eliminate package startup messages\n",
      "\n"
     ]
    }
   ],
   "source": [
    "library('tidymodels')\n",
    "library('ISLR2')\n",
    "\n",
    "\n"
   ]
  },
  {
   "cell_type": "markdown",
   "id": "da581705-7efd-4601-9c62-164f18eeffa9",
   "metadata": {},
   "source": [
    "`glimpse` the `Auto` dataset (this comes from the `ISLR2` package)."
   ]
  },
  {
   "cell_type": "code",
   "execution_count": 2,
   "id": "2da8b434-17f0-431d-8249-f8732185317a",
   "metadata": {
    "tags": []
   },
   "outputs": [
    {
     "name": "stdout",
     "output_type": "stream",
     "text": [
      "Rows: 392\n",
      "Columns: 9\n",
      "$ mpg          \u001b[3m\u001b[90m<dbl>\u001b[39m\u001b[23m 18, 15, 18, 16, 17, 15, 14, 14, 14, 15, 15, 14, 15, 14, 2…\n",
      "$ cylinders    \u001b[3m\u001b[90m<int>\u001b[39m\u001b[23m 8, 8, 8, 8, 8, 8, 8, 8, 8, 8, 8, 8, 8, 8, 4, 6, 6, 6, 4, …\n",
      "$ displacement \u001b[3m\u001b[90m<dbl>\u001b[39m\u001b[23m 307, 350, 318, 304, 302, 429, 454, 440, 455, 390, 383, 34…\n",
      "$ horsepower   \u001b[3m\u001b[90m<int>\u001b[39m\u001b[23m 130, 165, 150, 150, 140, 198, 220, 215, 225, 190, 170, 16…\n",
      "$ weight       \u001b[3m\u001b[90m<int>\u001b[39m\u001b[23m 3504, 3693, 3436, 3433, 3449, 4341, 4354, 4312, 4425, 385…\n",
      "$ acceleration \u001b[3m\u001b[90m<dbl>\u001b[39m\u001b[23m 12.0, 11.5, 11.0, 12.0, 10.5, 10.0, 9.0, 8.5, 10.0, 8.5, …\n",
      "$ year         \u001b[3m\u001b[90m<int>\u001b[39m\u001b[23m 70, 70, 70, 70, 70, 70, 70, 70, 70, 70, 70, 70, 70, 70, 7…\n",
      "$ origin       \u001b[3m\u001b[90m<int>\u001b[39m\u001b[23m 1, 1, 1, 1, 1, 1, 1, 1, 1, 1, 1, 1, 1, 1, 3, 1, 1, 1, 3, …\n",
      "$ name         \u001b[3m\u001b[90m<fct>\u001b[39m\u001b[23m chevrolet chevelle malibu, buick skylark 320, plymouth sa…\n"
     ]
    }
   ],
   "source": [
    "Auto |> glimpse()"
   ]
  },
  {
   "cell_type": "markdown",
   "id": "0475af12-8f3a-4514-ad61-ee34c3854dd2",
   "metadata": {},
   "source": [
    "Plot `mpg`  as a function of `displacement`."
   ]
  },
  {
   "cell_type": "code",
   "execution_count": null,
   "id": "dcdc21aa-3da6-464d-8685-0141cd1bba93",
   "metadata": {},
   "outputs": [],
   "source": [
    "\n",
    "\n"
   ]
  },
  {
   "cell_type": "markdown",
   "id": "4b63365e-aa0a-47d7-b93f-0f97436b270b",
   "metadata": {},
   "source": [
    "❓Does the relationship of `mpg` to `displacement` look linear?"
   ]
  },
  {
   "cell_type": "code",
   "execution_count": null,
   "id": "99a6d1b3-d1e8-4039-bd41-c3391211bb6f",
   "metadata": {},
   "outputs": [],
   "source": [
    "\n",
    "\n"
   ]
  },
  {
   "cell_type": "markdown",
   "id": "ba320947-154e-4958-acde-b2b582e737b1",
   "metadata": {},
   "source": [
    "Model `mpg` as a function of `displacement` and `cylinders`. \n",
    "\n",
    "- Transform the `displacement` variable using a `spline` or `polynomial` transform. (Hint: use `step_ns` or `step_poly`).\n",
    "- Combine `step_mutate(cyl_cat = factor(cylinders))` followed by `step_dummy(cyl_cat)` and `step_rm(cylinders)` to convert `cylinders` to categorical data for the model.\n",
    "\n",
    "Assuming you name your fitted model `mod_fit` the code below can be used to visualize your model:\n",
    "\n",
    "```r\n",
    "predict(mod_fit, rec |> juice()) |>\n",
    "    bind_cols(Auto) |>\n",
    "ggplot(aes(x = displacement, y = mpg)) +\n",
    "    geom_point(size = 1, alpha = 0.35) +\n",
    "    geom_line(aes(y = .pred, color = factor(cylinders)), linewidth = 1)\n",
    "```\n",
    "\n",
    "**Create and visualize your model below...**"
   ]
  },
  {
   "cell_type": "code",
   "execution_count": null,
   "id": "1821b4e9-0f37-445a-9ffe-7c9064795510",
   "metadata": {},
   "outputs": [],
   "source": [
    "\n",
    "\n"
   ]
  }
 ],
 "metadata": {
  "kernelspec": {
   "display_name": "data730:R",
   "language": "R",
   "name": "conda-env-data730-r"
  },
  "language_info": {
   "codemirror_mode": "r",
   "file_extension": ".r",
   "mimetype": "text/x-r-source",
   "name": "R",
   "pygments_lexer": "r",
   "version": "4.3.2"
  }
 },
 "nbformat": 4,
 "nbformat_minor": 5
}
